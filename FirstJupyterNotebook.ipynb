{
 "cells": [
  {
   "cell_type": "code",
   "execution_count": null,
   "metadata": {
    "collapsed": false
   },
   "outputs": [],
   "source": [
    "#\n",
    "# Next line enables making matplotlib plots in the browser instead of opening a new x11 window\n",
    "#\n",
    "%matplotlib inline\n",
    "#%pylab\n",
    "\n",
    "#\n",
    "# matplotlib related useful stuffs\n",
    "#\n",
    "import matplotlib\n",
    "import matplotlib.pyplot as plt\n",
    "import matplotlib.colors as mpc\n",
    "from matplotlib.ticker import FormatStrFormatter\n",
    "from mpl_toolkits.mplot3d import Axes3D\n",
    "import numpy as np\n",
    "\n",
    "#\n",
    "# Make execution window size max == browser size\n",
    "#\n",
    "from IPython.core.display import display, HTML\n",
    "display(HTML(\"<style>.container { width:100% !important; }</style>\"))"
   ]
  },
  {
   "cell_type": "code",
   "execution_count": null,
   "metadata": {
    "collapsed": true
   },
   "outputs": [],
   "source": [
    "def image(array):\n",
    "        print array.shape\n",
    "        fig,ax = plt.subplots(figsize=(16,16),facecolor='w')\n",
    "        plt.imshow(array,interpolation = 'nearest')\n",
    "\n",
    "        plt.show()\n",
    "        \n",
    "def fill_random(array,npoints=100):\n",
    "    import random\n",
    "    for x in xrange(npoints):\n",
    "        row=int(random.uniform(0,array.shape[0]))\n",
    "        col=int(random.uniform(0,array.shape[1]))\n",
    "        \n",
    "        array[row][col] = random.uniform(0,255)"
   ]
  },
  {
   "cell_type": "code",
   "execution_count": null,
   "metadata": {
    "collapsed": false,
    "scrolled": false
   },
   "outputs": [],
   "source": [
    "mat = np.zeros([64,64]).astype(np.float32)\n",
    "fill_random(mat)\n",
    "print mat.max(),mat.min(),mat.std(),mat.mean()\n",
    "image(mat)\n",
    "\n"
   ]
  },
  {
   "cell_type": "code",
   "execution_count": null,
   "metadata": {
    "collapsed": true
   },
   "outputs": [],
   "source": []
  }
 ],
 "metadata": {
  "kernelspec": {
   "display_name": "Python 2",
   "language": "python",
   "name": "python2"
  },
  "language_info": {
   "codemirror_mode": {
    "name": "ipython",
    "version": 2
   },
   "file_extension": ".py",
   "mimetype": "text/x-python",
   "name": "python",
   "nbconvert_exporter": "python",
   "pygments_lexer": "ipython2",
   "version": "2.7.10"
  }
 },
 "nbformat": 4,
 "nbformat_minor": 0
}
