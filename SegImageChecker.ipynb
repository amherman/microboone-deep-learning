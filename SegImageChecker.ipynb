{
 "cells": [
  {
   "cell_type": "code",
   "execution_count": null,
   "metadata": {
    "collapsed": false
   },
   "outputs": [],
   "source": [
    "%matplotlib inline\n",
    "#%pylab\n",
    "import matplotlib\n",
    "matplotlib.use('Agg')\n",
    "import matplotlib.pyplot as plt\n",
    "import matplotlib.colors as mpc\n",
    "from matplotlib.ticker import FormatStrFormatter\n",
    "from mpl_toolkits.mplot3d import Axes3D\n",
    "import numpy as np\n",
    "from larcv import larcv\n",
    "larcv.load_pyutil\n",
    "from ROOT import TChain\n",
    "\n",
    "from IPython.core.display import display, HTML\n",
    "display(HTML(\"<style>.container { width:100% !important; }</style>\"))"
   ]
  },
  {
   "cell_type": "code",
   "execution_count": null,
   "metadata": {
    "collapsed": false
   },
   "outputs": [],
   "source": [
    "#FNAME='larcv.root'\n",
    "\n",
    "FNAME='out.root'\n",
    "\n",
    "ch0=TChain(\"image2d_wire_tree\")\n",
    "ch1=TChain(\"image2d_segment_tree\")\n",
    "ch2=TChain(\"image2d_spweight_tree\")\n",
    "ch0.AddFile(FNAME)\n",
    "ch1.AddFile(FNAME)\n",
    "ch2.AddFile(FNAME)\n",
    "print ch0.GetEntries(),ch1.GetEntries(),ch2.GetEntries()"
   ]
  },
  {
   "cell_type": "code",
   "execution_count": null,
   "metadata": {
    "collapsed": false,
    "scrolled": false
   },
   "outputs": [],
   "source": [
    "for entry in xrange(ch0.GetEntries()):\n",
    "    print 'Entry',entry\n",
    "    ch0.GetEntry(entry)\n",
    "    ch1.GetEntry(entry)\n",
    "    ch2.GetEntry(entry)\n",
    "    \n",
    "    adcimg = np.flipud(larcv.as_ndarray(ch0.image2d_wire_branch.Image2DArray()[2]).astype(np.float32))\n",
    "    segimg = np.flipud(larcv.as_ndarray(ch1.image2d_segment_branch.Image2DArray()[2]).astype(np.float32))\n",
    "    spwimg = np.flipud(larcv.as_ndarray(ch2.image2d_spweight_branch.Image2DArray()[2]).astype(np.float32))\n",
    "    \n",
    "    adcimg = (adcimg > 40).astype(np.int32) * adcimg\n",
    "    segimg = (((segimg >= 3).astype(np.int32) + (segimg >= 5)).astype(np.int32)) * 80\n",
    "    spwimg = spwimg / spwimg.max() * 255.\n",
    "    \n",
    "    fig,ax_arr=plt.subplots(1,3,figsize=(36,16),facecolor='w')\n",
    "\n",
    "    ax=ax_arr[0]\n",
    "    ax.imshow(adcimg,cmap='jet',interpolation='none',vmin=0,vmax=255,origin='lower')\n",
    "    ax.tick_params(labelsize=20)\n",
    "    ax.set_xlabel('wire',fontsize=20)\n",
    "    ax.set_ylabel('time',fontsize=20)\n",
    "    \n",
    "    ax=ax_arr[1]\n",
    "    ax.imshow(segimg,cmap='jet',interpolation='none',vmin=0,vmax=255,origin='lower')\n",
    "    ax.tick_params(labelsize=20)\n",
    "    ax.set_xlabel('wire',fontsize=20)\n",
    "    ax.set_ylabel('time',fontsize=20)\n",
    "    \n",
    "    ax=ax_arr[2]\n",
    "    ax.imshow(spwimg,cmap='jet',interpolation='none',vmin=0,vmax=255,origin='lower')\n",
    "    ax.tick_params(labelsize=20)\n",
    "    ax.set_xlabel('wire',fontsize=20)\n",
    "    ax.set_ylabel('time',fontsize=20)    \n",
    "    \n",
    "    plt.show()\n",
    "    if entry>100: break"
   ]
  },
  {
   "cell_type": "code",
   "execution_count": null,
   "metadata": {
    "collapsed": true
   },
   "outputs": [],
   "source": []
  }
 ],
 "metadata": {
  "kernelspec": {
   "display_name": "Python 2",
   "language": "python",
   "name": "python2"
  },
  "language_info": {
   "codemirror_mode": {
    "name": "ipython",
    "version": 2
   },
   "file_extension": ".py",
   "mimetype": "text/x-python",
   "name": "python",
   "nbconvert_exporter": "python",
   "pygments_lexer": "ipython2",
   "version": "2.7.10"
  }
 },
 "nbformat": 4,
 "nbformat_minor": 0
}
